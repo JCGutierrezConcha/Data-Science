{
 "cells": [
  {
   "cell_type": "markdown",
   "metadata": {},
   "source": [
    "Descripción de Actividades.\n",
    "\n",
    "Para esta sesión trabajaremos con una base de datos sobre los precios de inmuebles en la ciudad de Ames, Iowa. La base se compone de 2930 registros y contiene un gran número de atributos.\n",
    "\n",
    "Nuestro objetivo es generar un modelo que prediga de forma adecuada los precios de inmuebles, medidos con la variable Sale_Price.\n",
    "\n",
    "A diferencia de otras sesiones donde implementábamos el preprocesamiento a mano, ahora haremos uso de los archivos serializados en la sesión pasada."
   ]
  },
  {
   "cell_type": "markdown",
   "metadata": {},
   "source": [
    "Desafío 1: Preparación del ambiente de trabajo.\n",
    "\n",
    "Importe las librerías clásicas a utilizar.\n",
    "\n",
    "Para este ejercicio Random Forest de Regresión\n",
    "\n",
    "De manera adicional importe las funciones y clases necesarias para generar un desempeño de métricas en problemas de regresión.\n",
    "\n",
    "Elimine la columna 'Unnamed: 0' cuando cargue los datos."
   ]
  },
  {
   "cell_type": "markdown",
   "metadata": {},
   "source": [
    "Desafío 2: Importación de archivos serializados.\n",
    "\n",
    "Importe su modelo entrenado y sus conjuntos de entrenamiento y validación serializados la sesión pasada y evalúe el desempeño del modelo de su compañero con el suyo ¿Cuál esmejor? \n",
    "Si no puede ejecutar el modelo, comente cuáles pueden ser los causantes.\n",
    "\n",
    "No es necesario que realice diagnósticos gráficos sobre el modelo, sólo reporte sus métricas.\n",
    "\n",
    "Para importar un archivo serializado, puede ocupar la siguiente línea de código:"
   ]
  },
  {
   "cell_type": "markdown",
   "metadata": {},
   "source": [
    "Desafío 3: Evaluación Random Forest.\n",
    "\n",
    "En base a los conjuntos de entrenamiento serializados, genere un modelo utilizando sklearn.ensemble.RandomForest sin modificar hiperparámetros, sólo declarando la semilla pseudoaleatoria.\n",
    "\n",
    "Reporte su desempeño y compárelo con su modelo de la sesión pasada, así como con el de su compañero."
   ]
  },
  {
   "cell_type": "markdown",
   "metadata": {},
   "source": [
    "Desafío 4: Métricas de desempeño.\n",
    "\n",
    "Para afinar el comportamiento de nuestro modelo, evalúe su desempeño los siguientes hiperparámetros:\n",
    "* max_features : None , log2 , sqrt .\n",
    "* n_estimators : Evaluar entre 20 y 1000 en pasos de 50.\n",
    "\n",
    "Reporte las métricas de desempeño.\n",
    "\n",
    "Guarde la tasa de error en la exactitud medida con OOB.\n",
    "\n",
    "Grafique el comportamiento."
   ]
  },
  {
   "cell_type": "markdown",
   "metadata": {},
   "source": [
    "Desafío 5: Refactorice el modelo.\n",
    "\n",
    "En base a la mejor combinación de hiperparámetros, reentrene el modelo y comente su desempeño."
   ]
  }
 ],
 "metadata": {
  "kernelspec": {
   "display_name": "Python 3",
   "language": "python",
   "name": "python3"
  },
  "language_info": {
   "codemirror_mode": {
    "name": "ipython",
    "version": 3
   },
   "file_extension": ".py",
   "mimetype": "text/x-python",
   "name": "python",
   "nbconvert_exporter": "python",
   "pygments_lexer": "ipython3",
   "version": "3.6.5"
  }
 },
 "nbformat": 4,
 "nbformat_minor": 2
}
